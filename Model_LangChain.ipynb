{
 "cells": [
  {
   "cell_type": "code",
   "execution_count": 1,
   "id": "5947c5c6-7e3c-4bf4-bea1-c17a48e343d6",
   "metadata": {},
   "outputs": [],
   "source": [
    "import os \n",
    "from dotenv import load_dotenv, find_dotenv\n",
    "_ = load_dotenv(find_dotenv())\n",
    "openai_api_key = os.environ[\"OPENAI_API_KEY\"]"
   ]
  },
  {
   "cell_type": "markdown",
   "id": "a86592c8-8369-4183-8764-681be49e706d",
   "metadata": {},
   "source": [
    "## Models"
   ]
  },
  {
   "cell_type": "markdown",
   "id": "4a2a020c-387f-41a7-ba4c-81c0cc000144",
   "metadata": {},
   "source": [
    "Langchain provides interfaces and integration for two types of language models:\n",
    " 1. LLMs: input a string of text, output a string of text\n",
    " 2. Chat Models: input a chat message, output a chat message\n",
    "\n",
    "\n",
    "### **Example of LLM: OpenAI LLM Model**"
   ]
  },
  {
   "cell_type": "code",
   "execution_count": 2,
   "id": "da00e03b-a092-4416-bcdf-a29ba5e551a2",
   "metadata": {},
   "outputs": [],
   "source": [
    "from langchain.llms import OpenAI"
   ]
  },
  {
   "cell_type": "code",
   "execution_count": 3,
   "id": "8ba1e802-03d4-4de7-9bed-f99de4a3096d",
   "metadata": {},
   "outputs": [],
   "source": [
    "my_llm = OpenAI()"
   ]
  },
  {
   "cell_type": "code",
   "execution_count": 4,
   "id": "a05db3bc-e1d0-4dc2-a099-0a191186ee03",
   "metadata": {},
   "outputs": [],
   "source": [
    "question = \"Name the most popular 10 Indian Presidents\""
   ]
  },
  {
   "cell_type": "code",
   "execution_count": 5,
   "id": "8bf2eed8-050f-4eaa-8771-06957c5aaf51",
   "metadata": {},
   "outputs": [],
   "source": [
    "response = my_llm(question)"
   ]
  },
  {
   "cell_type": "code",
   "execution_count": 6,
   "id": "a2bfc80d-2713-4014-9774-8f9c1de3c57a",
   "metadata": {},
   "outputs": [
    {
     "name": "stdout",
     "output_type": "stream",
     "text": [
      "\n",
      "\n",
      "1. Dr. Rajendra Prasad\n",
      "2. Dr. Sarvepalli Radhakrishnan\n",
      "3. Dr. Zakir Hussain\n",
      "4. V.V. Giri\n",
      "5. Fakhruddin Ali Ahmed\n",
      "6. Neelam Sanjiva Reddy\n",
      "7. Giani Zail Singh\n",
      "8. R. Venkataraman\n",
      "9. Dr. Shankar Dayal Sharma\n",
      "10. K.R. Narayanan\n"
     ]
    }
   ],
   "source": [
    "print(response)"
   ]
  },
  {
   "cell_type": "code",
   "execution_count": 8,
   "id": "85114a68-acb8-4051-ac12-014f6cc30be7",
   "metadata": {},
   "outputs": [
    {
     "name": "stdout",
     "output_type": "stream",
     "text": [
      "<class 'str'>\n"
     ]
    }
   ],
   "source": [
    "print(type(response))"
   ]
  },
  {
   "cell_type": "code",
   "execution_count": 9,
   "id": "625c494c-2c15-4410-bd0e-22f53d950625",
   "metadata": {},
   "outputs": [],
   "source": [
    "response_variation_1 = my_llm.predict(question)"
   ]
  },
  {
   "cell_type": "code",
   "execution_count": 10,
   "id": "bba7353b-3337-46c0-932a-6f8872fde503",
   "metadata": {},
   "outputs": [
    {
     "name": "stdout",
     "output_type": "stream",
     "text": [
      "\n",
      "\n",
      "1. Dr. Rajendra Prasad\n",
      "2. Dr. Sarvepalli Radhakrishnan\n",
      "3. Dr. Zakir Hussain\n",
      "4. Varahagiri Venkata Giri\n",
      "5. Fakhruddin Ali Ahmed\n",
      "6. Neelam Sanjiva Reddy\n",
      "7. Giani Zail Singh\n",
      "8. R. Venkataraman\n",
      "9. Shankar Dayal Sharma\n",
      "10. K.R. Narayanan\n"
     ]
    }
   ],
   "source": [
    "print(response_variation_1)"
   ]
  },
  {
   "cell_type": "code",
   "execution_count": null,
   "id": "f0efc229-8552-410d-83e1-e7818a200880",
   "metadata": {},
   "outputs": [],
   "source": []
  }
 ],
 "metadata": {
  "kernelspec": {
   "display_name": "Python 3 (ipykernel)",
   "language": "python",
   "name": "python3"
  },
  "language_info": {
   "codemirror_mode": {
    "name": "ipython",
    "version": 3
   },
   "file_extension": ".py",
   "mimetype": "text/x-python",
   "name": "python",
   "nbconvert_exporter": "python",
   "pygments_lexer": "ipython3",
   "version": "3.11.7"
  }
 },
 "nbformat": 4,
 "nbformat_minor": 5
}
